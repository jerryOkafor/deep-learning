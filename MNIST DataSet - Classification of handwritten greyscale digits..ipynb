{
 "cells": [
  {
   "cell_type": "markdown",
   "metadata": {},
   "source": [
    "# Neural Network with PyTorch - MNIST Dataset - Greyscale Handwritten Digits"
   ]
  },
  {
   "cell_type": "markdown",
   "metadata": {},
   "source": [
    "Here we'll use the MNIST dataset whcich conssist of grescale handwritten digits. each image is a 28X28 pixels. see Sample below:\n",
    "\n",
    "<img src='assets/mnist.png'>\n",
    "    \n",
    "our goal is to buid a neural network that can take one if these images and predict the digit in the image.\n",
    "The MNIST data set is provided through the `touchvision` pacakage. Below, we download the MNIST dataset and create training and test datasets."
   ]
  },
  {
   "cell_type": "code",
   "execution_count": 14,
   "metadata": {},
   "outputs": [],
   "source": [
    "##Import necessary packages\n",
    "%matplotlib inline\n",
    "%config InlineBackend.figure_format = 'retina'\n",
    "import numpy as np\n",
    "import torch\n",
    "import helper\n",
    "import matplotlib.pyplot as plt"
   ]
  },
  {
   "cell_type": "code",
   "execution_count": 22,
   "metadata": {},
   "outputs": [],
   "source": [
    "###Download Data sets\n",
    "from torchvision import datasets, transforms\n",
    "\n",
    "#Define transsforms to normalise the data\n",
    "transform = transforms.Compose([\n",
    "    transforms.ToTensor(),\n",
    "    transforms.Normalize((0.5,),(0.5,))\n",
    "])\n",
    "\n",
    "#Download ans load the training data\n",
    "trainset = datasets.MNIST('~./pytorch/MNIST_data/', download=True, train=True, transform=transform)\n",
    "trainloader = torch.utils.data.DataLoader(trainset, batch_size=64, shuffle=True)"
   ]
  },
  {
   "cell_type": "markdown",
   "metadata": {},
   "source": [
    "In the code above, we have the training data loaded into the trainloader and we can make that an iterator with iter(trainloader). Later we'll use this to loop through the dataset for training.\n",
    "\n",
    "In the trainloader, we uses a batch size of 64 and `shuffle=True`. The batch size is the number of images we can get in onw iteration from the data loader and pass through our network, often called a *batch*. And `shuffle=True` tells it to shuffle the dataset everytime we start going through the dataloader again.\n",
    "\n",
    "Let's take a look and sample the first batch of imagea and labels below:"
   ]
  },
  {
   "cell_type": "code",
   "execution_count": 25,
   "metadata": {},
   "outputs": [
    {
     "name": "stdout",
     "output_type": "stream",
     "text": [
      "<class 'torch.Tensor'>\n",
      "torch.Size([64, 1, 28, 28])\n",
      "torch.Size([64])\n"
     ]
    }
   ],
   "source": [
    "#convert to iter\n",
    "dataiter = iter(trainloader)\n",
    "\n",
    "#Get the next batch of 64 images and labels\n",
    "images, labels = dataiter.next() \n",
    "print(type(images))\n",
    "print(images.shape)\n",
    "print(labels.shape)"
   ]
  },
  {
   "cell_type": "markdown",
   "metadata": {},
   "source": [
    "We can see above that images is just a tensor with size `(64,1,28,28)`. So 64 images per batch, 1 color channel and 28X28 pixels.\n",
    "\n",
    "This is what one of the images looks like:"
   ]
  },
  {
   "cell_type": "code",
   "execution_count": 28,
   "metadata": {},
   "outputs": [
    {
     "data": {
      "text/plain": [
       "<matplotlib.image.AxesImage at 0x1302426a0>"
      ]
     },
     "execution_count": 28,
     "metadata": {},
     "output_type": "execute_result"
    },
    {
     "data": {
      "image/png": "[encoded data removed]",
      "text/plain": [
       "<Figure size 432x288 with 1 Axes>"
      ]
     },
     "metadata": {
      "image/png": {
       "height": 248,
       "width": 251
      },
      "needs_background": "light"
     },
     "output_type": "display_data"
    }
   ],
   "source": [
    "plt.imshow(images[1].numpy().squeeze(),cmap='Greys_r')"
   ]
  },
  {
   "cell_type": "markdown",
   "metadata": {},
   "source": [
    "We are going to divide our goal into three stages:\n",
    "\n",
    "1. Build a simple network for this dataset using weight matrices and matrix multiplications\n",
    "2. Then we see how to build the same using Pytorch's `nn` modules\n",
    "3. We build the same network using Pytorch's `nn` modules, this time, we use `nn.Sequential()` - a short form way of building neural network."
   ]
  },
  {
   "cell_type": "markdown",
   "metadata": {},
   "source": [
    "# Backgorund\n",
    "\n",
    "We wish to build a fully connected or dense network. In a fully connected or dense network, each unit on one layer is connected to each unit in the next layer. In fully connected networks, the input to each layer must be a one-dimensional vector (1D vector) (which can be stacked into a a 2D tensor as a batch of multiple examples). Hoever, our images are 28X28 2D tensors, so we need to convert them to 1D vectors i.e `(64,1,28,28)` to `(64,784)`. 784 is 28X28. This is typically called `flattening`, we have flattened the 2D images into 1D vectors.\n",
    "\n",
    "How about the output, we need 10 outputs, one for each 0..9. We want out network to predict the digit shown in an image, so what we'll do is calculate the probability that the image is of any one digit or class. This ends up being a ddscrete probabiity distribution over the classes (digits) that tells us the most likely class for the image. That mesans we need 10 output units for the 10 classes (digits)"
   ]
  },
  {
   "cell_type": "markdown",
   "metadata": {},
   "source": [
    "# Using Weight Matrices and Matrix Multiplcation\n",
    "\n",
    "Here we flatten the batch of 64 images, build a mult-layer network with 784 input units, 256 hideen units and and 10 output units unsing weight matrices and matric multiplcation."
   ]
  },
  {
   "cell_type": "code",
   "execution_count": 41,
   "metadata": {},
   "outputs": [
    {
     "name": "stdout",
     "output_type": "stream",
     "text": [
      "torch.Size([64, 784])\n",
      "tensor([[-6.1440e-01,  5.0046e+00, -2.4256e+00,  7.5987e+00,  1.1397e+01,\n",
      "          3.3766e+00, -7.4255e+00, -7.6961e-01, -1.1467e+01,  1.0971e+01],\n",
      "        [ 1.5923e+00,  6.6179e+00, -7.0549e+00,  9.3295e-01,  8.6228e+00,\n",
      "          8.7348e+00,  8.2324e+00,  5.9724e+00, -6.0282e+00,  7.1078e+00],\n",
      "        [ 7.7786e+00,  1.1765e+01,  4.4041e+00,  1.4837e+00,  4.9076e+00,\n",
      "          1.9651e+01,  8.0371e+00,  7.2476e+00, -8.7622e+00,  1.6338e+01],\n",
      "        [-5.4576e+00,  1.0011e+01, -1.3758e+01,  1.1385e+01,  1.4196e+01,\n",
      "          9.8303e+00,  8.0012e+00, -1.2945e+01,  2.5515e+00,  1.8281e+01],\n",
      "        [ 3.6755e+00,  1.5851e+01, -1.3277e+00,  6.8150e+00,  5.4720e+00,\n",
      "          1.9976e+01,  1.1820e+01, -4.9815e+00, -5.8085e+00,  9.8932e+00],\n",
      "        [ 7.3380e-01,  5.8858e+00, -3.5371e+00, -3.5952e+00,  6.1042e+00,\n",
      "          4.6175e-01,  3.4242e+00,  1.5167e-01, -8.1183e+00,  1.5161e+01],\n",
      "        [ 2.6623e+00,  4.0611e+00, -2.0162e+00,  6.7108e+00,  1.6131e+01,\n",
      "          7.4669e+00,  1.4022e+01, -5.8572e-01,  3.3634e+00,  2.3770e+00],\n",
      "        [-5.9925e+00,  1.8944e+01,  1.5318e+00,  5.5503e+00,  1.5613e+00,\n",
      "          1.0502e+01,  6.5120e+00,  7.9423e+00, -4.7254e+00,  5.1077e+00],\n",
      "        [-2.5239e+00,  4.5335e+00, -1.5351e+01,  7.8370e+00,  3.2605e+00,\n",
      "          9.4646e+00,  6.8219e+00, -6.5965e+00, -6.6627e+00,  8.2405e+00],\n",
      "        [-8.2024e+00,  1.1797e+01, -3.4468e+00,  9.1219e-01,  1.5467e+01,\n",
      "          1.1171e+01,  7.5604e-01, -7.4762e+00, -2.3745e-01,  1.0488e+01],\n",
      "        [ 6.6284e+00,  6.0619e+00, -1.0212e+01, -5.4325e+00,  8.1792e+00,\n",
      "          7.6852e+00,  3.2718e+00,  1.6833e+00, -1.2926e+01,  1.9183e+01],\n",
      "        [ 1.1502e+01,  1.0723e+01, -3.8888e+00,  1.1524e+01, -6.2002e+00,\n",
      "          9.9355e+00, -3.8085e+00, -2.2154e+00, -1.1867e+01,  7.7183e+00],\n",
      "        [ 4.9974e+00,  4.9492e+00, -5.1614e+00,  7.9583e+00,  6.4953e+00,\n",
      "          1.4558e+01, -9.2030e+00, -4.9222e-02, -5.0806e+00, -4.5817e+00],\n",
      "        [-5.0165e+00,  1.3526e+01, -5.4593e+00,  1.1945e+00,  1.8794e+01,\n",
      "          6.7069e+00,  1.0412e+01,  1.2961e-01,  3.2923e+00,  1.3024e+01],\n",
      "        [ 2.0075e+00,  7.5139e+00, -3.3432e-01,  8.1651e+00,  5.5407e+00,\n",
      "          8.7206e+00, -8.7282e+00, -4.8668e+00, -5.9767e+00, -7.3899e+00],\n",
      "        [ 1.9684e+00,  7.5028e-01, -1.4858e+00, -2.9906e+00,  6.5751e+00,\n",
      "          7.9693e+00,  1.7681e-01,  1.5131e+00, -4.8510e+00,  1.4743e+01],\n",
      "        [ 4.4285e-01,  9.3127e+00,  2.5157e+00,  8.6979e+00,  1.3297e+00,\n",
      "          2.0997e+01,  1.3307e+01,  6.6614e-01, -1.1410e+01,  9.2274e+00],\n",
      "        [ 1.0935e+01, -2.5203e-01, -1.9476e+00, -1.2428e+00,  1.0293e+00,\n",
      "          1.0945e+01,  9.4324e+00, -5.1446e+00, -6.1467e+00,  1.1695e+01],\n",
      "        [ 2.4467e+00,  9.4380e-01, -3.0692e+00,  2.5279e+00, -5.4742e+00,\n",
      "          5.2940e+00,  5.1062e+00, -7.8680e+00, -4.2365e+00,  1.7388e+01],\n",
      "        [-1.9261e+00,  4.6404e+00, -3.5921e+00,  3.3313e+00, -5.0711e+00,\n",
      "          8.9056e+00,  1.0708e+01,  9.6154e+00, -1.6418e+00,  7.6533e+00],\n",
      "        [ 1.1296e+00,  8.8952e+00, -6.5183e+00,  5.7563e+00,  6.8277e+00,\n",
      "          3.9291e+00, -3.6020e+00, -4.1877e+00, -6.0730e+00,  6.7951e+00],\n",
      "        [-4.4804e+00,  8.1024e+00, -3.5376e+00,  8.0042e+00,  1.0514e+01,\n",
      "          1.0107e+01,  5.0775e+00, -1.4379e+00, -4.6723e+00,  1.0446e+01],\n",
      "        [-3.6176e+00, -2.2217e-01, -5.1194e+00,  4.7089e+00,  8.5152e+00,\n",
      "          9.2131e+00,  1.7298e+01, -1.4335e+01, -8.4263e+00,  1.4249e+01],\n",
      "        [ 8.0793e-01,  7.7249e+00,  3.0531e+00, -1.8245e+00,  1.0291e+01,\n",
      "          3.0375e+00,  2.4101e+00, -3.2305e+00, -1.5170e+00,  2.3303e+01],\n",
      "        [ 5.0594e+00,  5.2459e+00, -3.9490e+00, -3.4653e+00,  4.5340e+00,\n",
      "          1.8817e+00,  3.7165e+00, -4.2214e+00, -3.6358e+00,  1.0304e+01],\n",
      "        [ 6.2712e+00,  7.9215e-01, -2.2924e+00, -7.8810e-01,  1.1013e+01,\n",
      "         -7.5043e-01,  2.3081e+00, -3.0608e+00, -1.9850e+00,  1.6471e+01],\n",
      "        [ 1.6269e+00,  9.1224e+00, -7.7474e+00,  4.3726e+00, -8.2295e-01,\n",
      "          7.3519e+00,  1.5054e+00,  3.4647e+00, -9.1783e-01,  7.5418e+00],\n",
      "        [ 4.3809e+00,  1.1823e+01, -2.5367e+00,  7.6997e-01,  7.5473e+00,\n",
      "          1.2587e+01,  1.1874e+01,  1.1348e+00, -7.8301e+00,  7.3438e+00],\n",
      "        [ 4.9519e+00,  9.3319e+00,  4.5636e+00,  9.2218e-01, -1.0193e+00,\n",
      "          8.4496e+00,  8.8826e+00,  1.6582e+00, -3.9380e+00,  1.5366e+01],\n",
      "        [-6.2741e+00,  8.3653e+00, -1.0980e+00, -7.1976e+00,  6.8784e+00,\n",
      "          9.6488e+00, -3.2562e+00, -3.1311e+00, -4.9619e+00,  2.3437e+01],\n",
      "        [-1.7379e+00,  9.5998e+00,  2.6876e+00, -2.1995e+00,  2.5051e+01,\n",
      "          5.7825e+00,  7.8157e+00, -2.9986e+00,  2.3515e+00,  2.2474e+01],\n",
      "        [ 4.5119e+00,  6.1598e+00, -5.1893e+00,  1.2663e+01,  3.0496e+00,\n",
      "          1.0050e+01, -5.5244e-02, -1.0998e+01, -3.5456e+00,  1.1396e+01],\n",
      "        [-9.1256e+00, -2.4312e+00,  7.2558e+00,  4.0261e+00,  5.2804e+00,\n",
      "          9.5225e+00,  8.5041e+00, -1.2753e+00, -1.4758e+01,  2.5733e+01],\n",
      "        [-6.2846e+00,  5.8336e+00,  1.5107e+00,  6.9147e-01,  1.2716e+01,\n",
      "          1.4088e+00, -2.3211e+00, -3.6493e+00, -5.5227e+00,  2.0761e+01],\n",
      "        [-2.1543e+00,  1.6814e+00,  2.6815e+00,  3.7509e+00,  5.6852e+00,\n",
      "          1.3228e+01,  3.1548e+00,  9.1339e+00, -3.4034e+00,  9.6876e+00],\n",
      "        [ 6.3610e+00,  4.5702e+00, -1.1555e-01,  7.3746e+00,  1.1759e+01,\n",
      "          7.2669e+00,  9.3906e+00, -2.8311e+00, -9.7648e+00,  6.4319e+00],\n",
      "        [-3.4397e-01,  6.2968e+00,  2.2370e-02,  6.5224e+00,  5.0218e+00,\n",
      "          4.9256e+00,  7.6605e+00, -1.0175e+01, -8.4688e+00,  1.4855e+01],\n",
      "        [-2.0332e+00,  1.0686e+01, -4.3759e+00,  3.4073e+00,  1.0349e+01,\n",
      "          5.8663e+00, -2.2393e+00, -5.0655e+00, -9.9752e-01,  1.2268e+01],\n",
      "        [-3.7354e-01, -1.3988e+00, -1.3130e+00,  1.0414e+01,  1.1103e+01,\n",
      "          1.1874e+01,  1.4805e+01,  5.4924e+00, -8.5581e+00,  1.7405e+01],\n",
      "        [ 1.9602e+00,  9.7262e+00, -1.9496e+00, -1.6208e+00,  1.0159e+01,\n",
      "          2.5115e+00,  1.1940e+01, -8.0114e+00, -1.2367e+01,  9.5414e+00],\n",
      "        [-1.0112e+00,  7.7274e+00, -9.6348e+00,  1.1017e+01,  8.0252e+00,\n",
      "          5.1000e+00,  5.7881e+00, -8.7645e+00,  7.1648e-01,  1.5955e+01],\n",
      "        [ 4.9164e+00, -9.8212e-01, -4.3960e+00,  9.6568e+00,  2.8130e+00,\n",
      "          3.4514e+00,  2.3665e+00, -2.1513e+00, -6.7471e+00,  1.8552e+01],\n",
      "        [-1.0633e+01,  6.5837e+00,  1.2267e-01, -2.1242e+00,  7.1545e+00,\n",
      "          7.4798e+00,  4.3539e+00, -3.9902e+00, -9.4126e+00,  2.3575e+01],\n",
      "        [-7.1511e+00,  8.3371e+00, -1.0968e+00,  6.8522e+00,  7.8255e+00,\n",
      "          1.6555e+01,  5.8822e+00, -2.5081e+00, -8.4354e+00,  4.4651e+00],\n",
      "        [-8.0882e+00,  1.2113e+01,  1.0725e+00,  4.5727e+00,  1.2189e+01,\n",
      "          1.2668e+01, -1.7071e+00, -2.8915e+00,  1.5207e+00,  2.5298e+01],\n",
      "        [ 3.3509e+00,  8.7456e+00, -4.2832e+00, -5.8398e+00,  8.1545e+00,\n",
      "          1.9231e+01,  1.0165e+01,  4.4180e+00, -1.5283e+00,  9.7596e+00],\n",
      "        [ 8.2704e+00,  7.8331e+00, -3.3244e+00, -4.1783e+00,  1.3174e+01,\n",
      "          1.3365e+01,  1.5981e+01, -2.7750e+00, -5.8318e+00,  1.3749e+01],\n",
      "        [ 1.9384e+00,  1.7338e+01, -6.8691e+00,  1.6012e+00,  8.0053e+00,\n",
      "          1.0767e+01,  2.5703e+00, -1.2697e+01,  4.4950e+00,  5.6494e+00],\n",
      "        [-6.5869e+00, -1.2163e+00, -7.3574e+00,  3.0092e+00,  1.7417e+01,\n",
      "          4.9278e+00,  9.4689e+00, -7.8654e+00, -7.7919e+00,  9.0277e+00],\n",
      "        [-5.3577e+00, -1.7914e+00,  2.4160e+00, -6.1722e+00,  1.7343e+01,\n",
      "          1.4732e+01,  7.3404e+00, -2.5387e+00, -5.5139e+00,  2.0096e+01],\n",
      "        [ 1.4841e+00, -2.5661e+00,  6.7633e+00,  1.2640e+01, -4.0741e+00,\n",
      "          7.1580e+00, -4.7570e+00, -6.1127e+00, -4.8168e+00,  1.6439e+01],\n",
      "        [-5.4621e+00,  8.2532e+00,  3.1869e-01,  2.6731e+00,  1.2572e+01,\n",
      "          4.9532e+00,  1.2681e+01, -7.9065e+00, -7.2315e+00,  1.8828e+01],\n",
      "        [-4.7874e+00,  1.9284e+00, -7.6549e+00,  2.3805e+00,  1.2835e+01,\n",
      "          6.6824e+00,  1.1357e+01, -6.8492e+00, -3.4018e+00,  1.7096e+01],\n",
      "        [-9.6881e+00,  6.0592e+00, -1.3022e+01, -2.5064e+00,  1.0505e+01,\n",
      "          8.7532e+00, -1.2187e+00, -4.6540e+00,  4.0141e+00,  1.2306e+01],\n",
      "        [-1.3420e+01,  3.7208e+00, -6.1024e+00,  5.4746e+00,  1.6441e+01,\n",
      "          1.7867e+01,  6.3292e+00,  3.0541e+00, -4.3362e+00,  1.8663e+01],\n",
      "        [ 2.5633e+00,  1.4155e+01, -2.0850e-01,  1.3579e+00,  5.8230e+00,\n",
      "          1.2194e+01,  1.6602e+01,  1.8387e+00, -8.5537e+00,  1.2683e+01],\n",
      "        [-3.6816e+00,  4.5628e+00, -2.1009e+00,  2.0034e+00,  2.0111e+01,\n",
      "          1.1167e+01,  8.6177e+00, -3.7340e+00, -7.0088e+00,  2.3596e+01],\n",
      "        [ 4.3108e-01,  8.1426e+00, -3.4244e+00,  8.5184e+00,  4.7372e+00,\n",
      "          7.6270e+00,  6.9696e+00,  2.1411e+00, -6.3130e+00,  4.2648e+00],\n",
      "        [ 3.7946e+00,  1.2034e+01, -3.2815e+00,  7.1571e+00,  8.4849e+00,\n",
      "          4.3275e+00,  5.4636e+00, -2.5997e+00,  5.6921e-01,  1.1930e+01],\n",
      "        [ 1.0796e-01,  1.0100e+00, -6.8805e+00,  2.4375e+00,  1.3996e+01,\n",
      "          6.3789e-01,  2.2638e+00, -7.1435e+00, -7.7101e+00,  2.0799e+01],\n",
      "        [ 1.1466e+00,  9.3282e+00, -7.7991e-01, -1.8147e-01, -1.6937e+00,\n",
      "          1.8738e+01,  2.2613e-01,  8.3522e+00,  1.0566e+00,  6.4056e+00],\n",
      "        [ 1.5735e+00,  8.0282e-01, -7.3893e+00,  9.5755e+00,  3.6194e+00,\n",
      "          1.2849e+01,  1.2975e+01,  2.7093e+00, -1.4435e+01,  1.7363e+01],\n",
      "        [ 1.2414e+00,  3.7465e+00,  3.7754e+00,  3.8073e+00, -5.5997e+00,\n",
      "         -9.1349e-01, -6.1425e-01,  1.8160e+00, -7.6098e+00,  1.4113e+01],\n",
      "        [-2.9394e-01,  9.2115e+00, -2.0970e+00,  3.2398e+00,  6.3678e+00,\n",
      "          4.3939e+00, -1.9217e+00,  8.0114e-01, -5.5985e+00,  1.2739e+01]])\n",
      "torch.Size([64, 10])\n",
      "tensor([1.0000, 1.0000, 1.0000, 1.0000, 1.0000, 1.0000, 1.0000, 1.0000, 1.0000,\n",
      "        1.0000, 1.0000, 1.0000, 1.0000, 1.0000, 1.0000, 1.0000, 1.0000, 1.0000,\n",
      "        1.0000, 1.0000, 1.0000, 1.0000, 1.0000, 1.0000, 1.0000, 1.0000, 1.0000,\n",
      "        1.0000, 1.0000, 1.0000, 1.0000, 1.0000, 1.0000, 1.0000, 1.0000, 1.0000,\n",
      "        1.0000, 1.0000, 1.0000, 1.0000, 1.0000, 1.0000, 1.0000, 1.0000, 1.0000,\n",
      "        1.0000, 1.0000, 1.0000, 1.0000, 1.0000, 1.0000, 1.0000, 1.0000, 1.0000,\n",
      "        1.0000, 1.0000, 1.0000, 1.0000, 1.0000, 1.0000, 1.0000, 1.0000, 1.0000,\n",
      "        1.0000])\n"
     ]
    }
   ],
   "source": [
    "#activation function\n",
    "def activation(x):\n",
    "    return 1/(1 + torch.exp(-x))\n",
    "\n",
    "#softmax for the output\n",
    "def softmax(x):\n",
    "    return torch.exp(x) / torch.sum(torch.exp(x),dim=1).view(-1,1)\n",
    "\n",
    "#flattern the images\n",
    "inputs = images.view(images.shape[0], -1)\n",
    "print(inputs.shape)\n",
    "\n",
    "#create parameters\n",
    "w1 = torch.randn(784,256)\n",
    "b1 = torch.randn(256)\n",
    "\n",
    "w2 = torch.randn(256,10)\n",
    "b2 = torch.randn(10)\n",
    "\n",
    "#first layer\n",
    "h = activation(torch.mm(inputs,w1) + b1)\n",
    "\n",
    "out = torch.mm(h,w2) + b2 # this shuld be shape of (64,10)\n",
    "\n",
    "print(out)\n",
    "\n",
    "probabilities = softmax(out)\n",
    "\n",
    "# Does it have the right shape? Should be (64, 10)\n",
    "print(probabilities.shape)\n",
    "\n",
    "# Does it sum to 1?\n",
    "print(probabilities.sum(dim=1))"
   ]
  },
  {
   "cell_type": "markdown",
   "metadata": {},
   "source": [
    "Here we see that the probability for each class is roughly the same. This is representing an untrained network, it hasn't seen any data yet so it just returns a uniform distribution with equal probabilities for each class."
   ]
  },
  {
   "cell_type": "markdown",
   "metadata": {},
   "source": [
    "# Using Pytorch\n",
    "Pytorch provides a module `nn` that makes building neural network much simpler. Here we will rebuild the same network with 785 input units, 256 hidden units 10 output units and a sfotmax output."
   ]
  },
  {
   "cell_type": "code",
   "execution_count": 37,
   "metadata": {},
   "outputs": [
    {
     "name": "stdout",
     "output_type": "stream",
     "text": [
      "Network(\n",
      "  (fc1): Linear(in_features=784, out_features=256, bias=True)\n",
      "  (fc2): Linear(in_features=256, out_features=10, bias=True)\n",
      ")\n"
     ]
    }
   ],
   "source": [
    "from torch import nn\n",
    "\n",
    "class Network(nn.Module):\n",
    "    def __init__(self):\n",
    "        super().__init__()\n",
    "        \n",
    "        #inputs to hidden layer linear transaformations\n",
    "        self.fc1 = nn.Linear(784,256)\n",
    "        \n",
    "        #hideen to outputs layer linear transformation\n",
    "        self.fc2 = nn.Linear(256,10)\n",
    "        \n",
    "    def forward(self, x):\n",
    "        #pass the input tensor through each of our operations\n",
    "        x = self.fc1(x)\n",
    "        x = torch.sigmoid(x)\n",
    "        x = self.fc2(x)\n",
    "        x = torch.softmax(x,dim=1)\n",
    "        \n",
    "        return x\n",
    "    \n",
    "model = Network()\n",
    "print(model)"
   ]
  },
  {
   "cell_type": "markdown",
   "metadata": {},
   "source": [
    "Lets modify this tensors in place. These are actually autograd `Variables`, so we need to get back the actual tensors with `self.fc1.weight.data`. Once we have the tensors, we can fill them with zeros (for biases) or random normal distributions.\n",
    "\n",
    "Recal that in the first approach, we were able to initialse the weights and biases with random normal distribution using numpy, now we are using Pytorch so we need to achieve the same thin here."
   ]
  },
  {
   "cell_type": "code",
   "execution_count": 38,
   "metadata": {},
   "outputs": [
    {
     "data": {
      "text/plain": [
       "tensor([0., 0., 0., 0., 0., 0., 0., 0., 0., 0., 0., 0., 0., 0., 0., 0., 0., 0., 0., 0., 0., 0., 0., 0.,\n",
       "        0., 0., 0., 0., 0., 0., 0., 0., 0., 0., 0., 0., 0., 0., 0., 0., 0., 0., 0., 0., 0., 0., 0., 0.,\n",
       "        0., 0., 0., 0., 0., 0., 0., 0., 0., 0., 0., 0., 0., 0., 0., 0., 0., 0., 0., 0., 0., 0., 0., 0.,\n",
       "        0., 0., 0., 0., 0., 0., 0., 0., 0., 0., 0., 0., 0., 0., 0., 0., 0., 0., 0., 0., 0., 0., 0., 0.,\n",
       "        0., 0., 0., 0., 0., 0., 0., 0., 0., 0., 0., 0., 0., 0., 0., 0., 0., 0., 0., 0., 0., 0., 0., 0.,\n",
       "        0., 0., 0., 0., 0., 0., 0., 0., 0., 0., 0., 0., 0., 0., 0., 0., 0., 0., 0., 0., 0., 0., 0., 0.,\n",
       "        0., 0., 0., 0., 0., 0., 0., 0., 0., 0., 0., 0., 0., 0., 0., 0., 0., 0., 0., 0., 0., 0., 0., 0.,\n",
       "        0., 0., 0., 0., 0., 0., 0., 0., 0., 0., 0., 0., 0., 0., 0., 0., 0., 0., 0., 0., 0., 0., 0., 0.,\n",
       "        0., 0., 0., 0., 0., 0., 0., 0., 0., 0., 0., 0., 0., 0., 0., 0., 0., 0., 0., 0., 0., 0., 0., 0.,\n",
       "        0., 0., 0., 0., 0., 0., 0., 0., 0., 0., 0., 0., 0., 0., 0., 0., 0., 0., 0., 0., 0., 0., 0., 0.,\n",
       "        0., 0., 0., 0., 0., 0., 0., 0., 0., 0., 0., 0., 0., 0., 0., 0.])"
      ]
     },
     "execution_count": 38,
     "metadata": {},
     "output_type": "execute_result"
    }
   ],
   "source": [
    "#set biases to all zero\n",
    "model.fc1.bias.data.fill_(0)"
   ]
  },
  {
   "cell_type": "code",
   "execution_count": 39,
   "metadata": {},
   "outputs": [
    {
     "data": {
      "text/plain": [
       "tensor([[ 4.3744e-03, -1.7970e-02, -6.1482e-03,  ..., -1.8695e-03,\n",
       "         -2.0807e-03,  4.4954e-03],\n",
       "        [-3.3138e-03,  6.9902e-03,  1.3848e-02,  ..., -5.0790e-03,\n",
       "          1.2289e-03, -5.5672e-03],\n",
       "        [-1.0777e-02,  1.6625e-02,  1.1510e-02,  ...,  4.4059e-03,\n",
       "          1.5988e-03,  3.8919e-03],\n",
       "        ...,\n",
       "        [ 5.4119e-03, -3.2674e-03,  9.4086e-03,  ..., -4.7117e-03,\n",
       "         -3.8701e-03, -2.8227e-03],\n",
       "        [-4.4561e-03,  5.9605e-03, -1.7998e-03,  ...,  1.0093e-02,\n",
       "          1.3058e-02,  3.8785e-04],\n",
       "        [ 3.9595e-03, -9.0765e-03, -6.8512e-03,  ..., -8.8700e-05,\n",
       "         -1.6758e-02,  2.4360e-03]])"
      ]
     },
     "execution_count": 39,
     "metadata": {},
     "output_type": "execute_result"
    }
   ],
   "source": [
    "#sample form random normal distribution with standard deviation of 0.01\n",
    "model.fc1.weight.data.normal_(std=0.01)"
   ]
  },
  {
   "cell_type": "markdown",
   "metadata": {},
   "source": [
    "## Forward pass\n",
    "Now that we have a network, lets see what happens when we pass an image."
   ]
  },
  {
   "cell_type": "code",
   "execution_count": 44,
   "metadata": {},
   "outputs": [
    {
     "data": {
      "image/png": "[encoded data removed]",
      "text/plain": [
       "<Figure size 432x648 with 2 Axes>"
      ]
     },
     "metadata": {
      "image/png": {
       "height": 235,
       "width": 424
      },
      "needs_background": "light"
     },
     "output_type": "display_data"
    }
   ],
   "source": [
    "#Grab some data from out trainloader\n",
    "dataiter = iter(trainloader)\n",
    "images,labels = dataiter.next()\n",
    "\n",
    "#resize the image to a 1D vector, new shape is (batch size, color channel, image pixels)\n",
    "images.resize_(images.shape[0],1,784)\n",
    "\n",
    "#do a forward pass through the nework\n",
    "img_idx = 0\n",
    "ps = model.forward(images[img_idx,:])\n",
    "\n",
    "img = images[img_idx]\n",
    "helper.view_classify(img.view(1,28,28),ps)"
   ]
  },
  {
   "cell_type": "markdown",
   "metadata": {},
   "source": [
    "As you can see above, our network has basically no idea what this digit is. It's because we haven't trained it yet, all the weights are random!\n",
    "\n",
    "# Using `nn.sequential()`\n",
    "\n",
    "PyTorch provides a convenient way to build networks like this where a tensor is passed sequentially through operations, `nn.Sequential` ([documentation](https://pytorch.org/docs/master/nn.html#torch.nn.Sequential)). Using this to build the equivalent network:"
   ]
  },
  {
   "cell_type": "code",
   "execution_count": 47,
   "metadata": {},
   "outputs": [
    {
     "name": "stdout",
     "output_type": "stream",
     "text": [
      "Sequential(\n",
      "  (fc1): Linear(in_features=784, out_features=128, bias=True)\n",
      "  (relu1): ReLU()\n",
      "  (fc2): Linear(in_features=128, out_features=64, bias=True)\n",
      "  (relu2): ReLU()\n",
      "  (output): Linear(in_features=64, out_features=64, bias=True)\n",
      "  (sofmax): Softmax(dim=1)\n",
      ")\n"
     ]
    }
   ],
   "source": [
    "from collections import OrderedDict\n",
    "\n",
    "#Hyperparameters for out network\n",
    "input_size = 784\n",
    "hidden_sizes = [128,64]\n",
    "output_size = 64\n",
    "\n",
    "#build a feed-forward network\n",
    "model2 = nn.Sequential(OrderedDict([\n",
    "    ('fc1',nn.Linear(input_size,hidden_sizes[0])),\n",
    "    ('relu1',nn.ReLU()),\n",
    "    ('fc2',nn.Linear(hidden_sizes[0], hidden_sizes[1])),\n",
    "    ('relu2',nn.ReLU()),\n",
    "    ('output',nn.Linear(hidden_sizes[1],output_size)),\n",
    "    ('logsofmax',nn.LogSoftmax(dim = 1))\n",
    "    \n",
    "]))\n",
    "\n",
    "print(model2)"
   ]
  },
  {
   "cell_type": "markdown",
   "metadata": {},
   "source": [
    "### Training\n",
    "Here we are going to train the last network and use it to make predictions.\n",
    "\n",
    "Using loss calculation, autograd and optimiser, we can complete the training process of our model for a numbe rof times called `empoch`.\n",
    "\n",
    "Loss - is calculated using `cretrion`, which is `nn.NLLLoss()` in thise case since we are using `nn.LogSoftmax(dim = 1)` as out final output. Loss in neural network in simple the difference between predicted result and acual result. So to get this, we compare the actual label with the output from the neural network.\n",
    "\n",
    "Autograd - is used to automatically calculate the gradient of tensors. Here we use to calculate the gradient of all our parameters with respect to the loss. Autograd works by keeping track of all the operations performed in tensors and going backward through those operations, calculating gradients along the way.To make sure PyTorch keeps track of operations on a tensor and calculates the gradients, you need to set `requires_grad = True` on a tensor. You can do this at creation with the `requires_grad` keyword, or at any time with `x.requires_grad_(True)`.\n",
    "\n",
    "Optimser  - is used to update the weights with the gradients from autograd."
   ]
  },
  {
   "cell_type": "code",
   "execution_count": 56,
   "metadata": {},
   "outputs": [
    {
     "name": "stdout",
     "output_type": "stream",
     "text": [
      "tensor([[ 2.9280e-04,  2.9280e-04,  2.9280e-04,  ...,  2.9280e-04,\n",
      "          2.9280e-04,  2.9280e-04],\n",
      "        [-9.8458e-06, -9.8458e-06, -9.8458e-06,  ..., -9.8458e-06,\n",
      "         -9.8458e-06, -9.8458e-06],\n",
      "        [ 4.1393e-04,  4.1393e-04,  4.1393e-04,  ...,  4.1393e-04,\n",
      "          4.1393e-04,  4.1393e-04],\n",
      "        ...,\n",
      "        [ 0.0000e+00,  0.0000e+00,  0.0000e+00,  ...,  0.0000e+00,\n",
      "          0.0000e+00,  0.0000e+00],\n",
      "        [ 5.5405e-04,  5.5405e-04,  5.5405e-04,  ...,  5.5405e-04,\n",
      "          5.5405e-04,  5.5405e-04],\n",
      "        [ 5.2490e-06,  5.2490e-06,  5.2490e-06,  ...,  5.2490e-06,\n",
      "          5.2490e-06,  5.2490e-06]])\n"
     ]
    }
   ],
   "source": [
    "#criterion\n",
    "criterion = nn.NLLLoss()\n",
    "\n",
    "images,label  = next(iter(trainloader))\n",
    "images = images.view(images.shape[0],-1)\n",
    "\n",
    "##forward pass\n",
    "logps = model2(images)\n",
    "loss = criterion(logps,labels)\n",
    "\n",
    "##backpropagation\n",
    "loss.backward()\n",
    "\n",
    "print(model2[0].weight.grad)\n"
   ]
  },
  {
   "cell_type": "code",
   "execution_count": 69,
   "metadata": {},
   "outputs": [
    {
     "name": "stdout",
     "output_type": "stream",
     "text": [
      "Initial weight -  Parameter containing:\n",
      "tensor([[-0.0215,  0.0284,  0.0020,  ..., -0.0032, -0.0245,  0.0026],\n",
      "        [ 0.0240, -0.0160,  0.0334,  ...,  0.0079,  0.0167,  0.0287],\n",
      "        [-0.0339,  0.0135,  0.0065,  ...,  0.0244,  0.0187, -0.0074],\n",
      "        ...,\n",
      "        [-0.0353,  0.0091, -0.0267,  ...,  0.0356, -0.0049, -0.0038],\n",
      "        [-0.0010, -0.0101,  0.0107,  ..., -0.0004, -0.0018,  0.0245],\n",
      "        [ 0.0076, -0.0048,  0.0197,  ...,  0.0259,  0.0145,  0.0143]],\n",
      "       requires_grad=True)\n",
      "Gradient -  tensor([[0., 0., 0.,  ..., 0., 0., 0.],\n",
      "        [0., 0., 0.,  ..., 0., 0., 0.],\n",
      "        [0., 0., 0.,  ..., 0., 0., 0.],\n",
      "        ...,\n",
      "        [0., 0., 0.,  ..., 0., 0., 0.],\n",
      "        [0., 0., 0.,  ..., 0., 0., 0.],\n",
      "        [0., 0., 0.,  ..., 0., 0., 0.]])\n"
     ]
    }
   ],
   "source": [
    "##begint training\n",
    "from torch import optim\n",
    "\n",
    "#optimzers require the parameter to optimise and a learning rate\n",
    "optimizer = optim.SGD(model2.parameters(),lr=0.01)\n",
    "\n",
    "##print initial weight\n",
    "print('Initial weight - ',model2.fc1.weight)\n",
    "\n",
    "images, labels = next(iter(trainloader))\n",
    "images.resize_(images.shape[0],784)\n",
    "\n",
    "#clear the gradients, do this becuase gradients are accumulated\n",
    "optimizer.zero_grad()\n",
    "\n",
    "#forward pass, then backward pass, then update weight\n",
    "output  = model(images)\n",
    "loss = criterion(output,labels)\n",
    "loss.backward()\n",
    "\n",
    "#print weight after optimization\n",
    "print('Gradient - ',model2.fc1.weight.grad)"
   ]
  },
  {
   "cell_type": "code",
   "execution_count": 70,
   "metadata": {},
   "outputs": [
    {
     "name": "stdout",
     "output_type": "stream",
     "text": [
      "Updated Weight -  Parameter containing:\n",
      "tensor([[-0.0215,  0.0284,  0.0020,  ..., -0.0032, -0.0245,  0.0026],\n",
      "        [ 0.0240, -0.0160,  0.0334,  ...,  0.0079,  0.0167,  0.0287],\n",
      "        [-0.0339,  0.0135,  0.0065,  ...,  0.0244,  0.0187, -0.0074],\n",
      "        ...,\n",
      "        [-0.0353,  0.0091, -0.0267,  ...,  0.0356, -0.0049, -0.0038],\n",
      "        [-0.0010, -0.0101,  0.0107,  ..., -0.0004, -0.0018,  0.0245],\n",
      "        [ 0.0076, -0.0048,  0.0197,  ...,  0.0259,  0.0145,  0.0143]],\n",
      "       requires_grad=True)\n"
     ]
    }
   ],
   "source": [
    "#apply the optimiser\n",
    "optimizer.step()\n",
    "\n",
    "print('Updated Weight - ',model2.fc1.weight)"
   ]
  },
  {
   "cell_type": "markdown",
   "metadata": {},
   "source": [
    "## Real Training\n",
    "\n",
    "Noww, lets put everything together and train out network for a number of times called epoch and then use it to make predictions."
   ]
  },
  {
   "cell_type": "code",
   "execution_count": 72,
   "metadata": {},
   "outputs": [
    {
     "name": "stdout",
     "output_type": "stream",
     "text": [
      "Training loss: 1.9380744402088337\n",
      "Training loss: 0.8837437581723687\n",
      "Training loss: 0.5343164585864366\n",
      "Training loss: 0.43242045814421637\n",
      "Training loss: 0.3863214784180686\n"
     ]
    }
   ],
   "source": [
    "model = nn.Sequential(nn.Linear(784, 128),\n",
    "                      nn.ReLU(),\n",
    "                      nn.Linear(128, 64),\n",
    "                      nn.ReLU(),\n",
    "                      nn.Linear(64, 10),\n",
    "                      nn.LogSoftmax(dim=1))\n",
    "\n",
    "criterion = nn.NLLLoss()\n",
    "optimizer = optim.SGD(model.parameters(), lr=0.003)\n",
    "\n",
    "epochs = 5\n",
    "for e in range(epochs):\n",
    "    running_loss = 0\n",
    "    for images, labels in trainloader:\n",
    "        # Flatten MNIST images into a 784 long vector\n",
    "        images = images.view(images.shape[0], -1)\n",
    "    \n",
    "        # TODO: Training pass\n",
    "        optimizer.zero_grad()\n",
    "        \n",
    "        output = model(images)\n",
    "        loss = criterion(output, labels)\n",
    "        loss.backward()\n",
    "        optimizer.step()\n",
    "        \n",
    "        running_loss += loss.item()\n",
    "    else:\n",
    "        print(f\"Training loss: {running_loss/len(trainloader)}\")"
   ]
  },
  {
   "cell_type": "markdown",
   "metadata": {},
   "source": [
    "With the network trained, we can chck out its predictions:"
   ]
  },
  {
   "cell_type": "code",
   "execution_count": 75,
   "metadata": {},
   "outputs": [
    {
     "data": {
      "image/png": "[encoded data removed]",
      "text/plain": [
       "<Figure size 432x648 with 2 Axes>"
      ]
     },
     "metadata": {
      "image/png": {
       "height": 235,
       "width": 424
      },
      "needs_background": "light"
     },
     "output_type": "display_data"
    }
   ],
   "source": [
    "%matplotlib inline\n",
    "import helper\n",
    "\n",
    "images, labels = next(iter(trainloader))\n",
    "\n",
    "img = images[0].view(1, 784)\n",
    "# Turn off gradients to speed up this part\n",
    "with torch.no_grad():\n",
    "    logps = model(img)\n",
    "\n",
    "# Output of the network are log-probabilities, need to take exponential for probabilities\n",
    "ps = torch.exp(logps)\n",
    "helper.view_classify(img.view(1, 28, 28), ps)"
   ]
  },
  {
   "cell_type": "code",
   "execution_count": null,
   "metadata": {},
   "outputs": [],
   "source": []
  }
 ],
 "metadata": {
  "celltoolbar": "Raw Cell Format",
  "kernelspec": {
   "display_name": "Python 3",
   "language": "python",
   "name": "python3"
  },
  "language_info": {
   "codemirror_mode": {
    "name": "ipython",
    "version": 3
   },
   "file_extension": ".py",
   "mimetype": "text/x-python",
   "name": "python",
   "nbconvert_exporter": "python",
   "pygments_lexer": "ipython3",
   "version": "3.6.10"
  }
 },
 "nbformat": 4,
 "nbformat_minor": 4
}
